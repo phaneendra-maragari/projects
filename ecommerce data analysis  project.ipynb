{
 "cells": [
  {
   "cell_type": "code",
   "execution_count": 2,
   "id": "5721d253-e139-4b1d-b36f-fbaffe4c60de",
   "metadata": {},
   "outputs": [
    {
     "name": "stdout",
     "output_type": "stream",
     "text": [
      "Processing customers.csv\n",
      "NaN values before replacement:\n",
      "customer_id                 0\n",
      "customer_unique_id          0\n",
      "customer_zip_code_prefix    0\n",
      "customer_city               0\n",
      "customer_state              0\n",
      "dtype: int64\n",
      "\n",
      "Processing orders.csv\n",
      "NaN values before replacement:\n",
      "order_id                            0\n",
      "customer_id                         0\n",
      "order_status                        0\n",
      "order_purchase_timestamp            0\n",
      "order_approved_at                 160\n",
      "order_delivered_carrier_date     1783\n",
      "order_delivered_customer_date    2965\n",
      "order_estimated_delivery_date       0\n",
      "dtype: int64\n",
      "\n",
      "Processing sellers.csv\n",
      "NaN values before replacement:\n",
      "seller_id                 0\n",
      "seller_zip_code_prefix    0\n",
      "seller_city               0\n",
      "seller_state              0\n",
      "dtype: int64\n",
      "\n",
      "Processing products.csv\n",
      "NaN values before replacement:\n",
      "product_id                      0\n",
      "product category              610\n",
      "product_name_length           610\n",
      "product_description_length    610\n",
      "product_photos_qty            610\n",
      "product_weight_g                2\n",
      "product_length_cm               2\n",
      "product_height_cm               2\n",
      "product_width_cm                2\n",
      "dtype: int64\n",
      "\n",
      "Processing geolocation.csv\n",
      "NaN values before replacement:\n",
      "geolocation_zip_code_prefix    0\n",
      "geolocation_lat                0\n",
      "geolocation_lng                0\n",
      "geolocation_city               0\n",
      "geolocation_state              0\n",
      "dtype: int64\n",
      "\n",
      "Processing payments.csv\n",
      "NaN values before replacement:\n",
      "order_id                0\n",
      "payment_sequential      0\n",
      "payment_type            0\n",
      "payment_installments    0\n",
      "payment_value           0\n",
      "dtype: int64\n",
      "\n",
      "Processing order_items.csv\n",
      "NaN values before replacement:\n",
      "order_id               0\n",
      "order_item_id          0\n",
      "product_id             0\n",
      "seller_id              0\n",
      "shipping_limit_date    0\n",
      "price                  0\n",
      "freight_value          0\n",
      "dtype: int64\n",
      "\n"
     ]
    }
   ],
   "source": [
    "import pandas as pd\n",
    "import mysql.connector\n",
    "import os\n",
    "\n",
    "# List of CSV files and their corresponding table names\n",
    "csv_files = [\n",
    "    ('customers.csv', 'customers'),\n",
    "    ('orders.csv', 'orders'),\n",
    "    ('sellers.csv', 'sellers'),\n",
    "    ('products.csv', 'products'),\n",
    "    ('geolocation.csv', 'geolocation'),\n",
    "    ('payments.csv', 'payments'), \n",
    "    ('order_items.csv', 'order_items') # Added payments.csv for specific handling\n",
    "]\n",
    "\n",
    "# Connect to the MySQL database\n",
    "conn = mysql.connector.connect(\n",
    "    host='localhost',\n",
    "    user='root',\n",
    "    password='12345',\n",
    "    database='ecommerce'\n",
    ")\n",
    "cursor = conn.cursor()\n",
    "\n",
    "# Folder containing the CSV files\n",
    "folder_path = 'C:/Users/phane/OneDrive/Desktop/da project'\n",
    "\n",
    "def get_sql_type(dtype):\n",
    "    if pd.api.types.is_integer_dtype(dtype):\n",
    "        return 'INT'\n",
    "    elif pd.api.types.is_float_dtype(dtype):\n",
    "        return 'FLOAT'\n",
    "    elif pd.api.types.is_bool_dtype(dtype):\n",
    "        return 'BOOLEAN'\n",
    "    elif pd.api.types.is_datetime64_any_dtype(dtype):\n",
    "        return 'DATETIME'\n",
    "    else:\n",
    "        return 'TEXT'\n",
    "\n",
    "for csv_file, table_name in csv_files:\n",
    "    file_path = os.path.join(folder_path, csv_file)\n",
    "    \n",
    "    # Read the CSV file into a pandas DataFrame\n",
    "    df = pd.read_csv(file_path)\n",
    "    \n",
    "    # Replace NaN with None to handle SQL NULL\n",
    "    df = df.where(pd.notnull(df), None)\n",
    "    \n",
    "    # Debugging: Check for NaN values\n",
    "    print(f\"Processing {csv_file}\")\n",
    "    print(f\"NaN values before replacement:\\n{df.isnull().sum()}\\n\")\n",
    "\n",
    "    # Clean column names\n",
    "    df.columns = [col.replace(' ', '_').replace('-', '_').replace('.', '_') for col in df.columns]\n",
    "\n",
    "    # Generate the CREATE TABLE statement with appropriate data types\n",
    "    columns = ', '.join([f'`{col}` {get_sql_type(df[col].dtype)}' for col in df.columns])\n",
    "    create_table_query = f'CREATE TABLE IF NOT EXISTS `{table_name}` ({columns})'\n",
    "    cursor.execute(create_table_query)\n",
    "\n",
    "    # Insert DataFrame data into the MySQL table\n",
    "    for _, row in df.iterrows():\n",
    "        # Convert row to tuple and handle NaN/None explicitly\n",
    "        values = tuple(None if pd.isna(x) else x for x in row)\n",
    "        sql = f\"INSERT INTO `{table_name}` ({', '.join(['`' + col + '`' for col in df.columns])}) VALUES ({', '.join(['%s'] * len(row))})\"\n",
    "        cursor.execute(sql, values)\n",
    "\n",
    "    # Commit the transaction for the current CSV file\n",
    "    conn.commit()\n",
    "\n",
    "# Close the connection\n",
    "conn.close()"
   ]
  },
  {
   "cell_type": "code",
   "execution_count": 285,
   "id": "f01e8039-2f4a-4559-b3b3-44e2ae972372",
   "metadata": {},
   "outputs": [
    {
     "name": "stdout",
     "output_type": "stream",
     "text": [
      "Requirement already satisfied: pandas in c:\\users\\phane\\anaconda3\\lib\\site-packages (2.2.2)\n",
      "Requirement already satisfied: numpy>=1.26.0 in c:\\users\\phane\\anaconda3\\lib\\site-packages (from pandas) (1.26.4)\n",
      "Requirement already satisfied: python-dateutil>=2.8.2 in c:\\users\\phane\\anaconda3\\lib\\site-packages (from pandas) (2.9.0.post0)\n",
      "Requirement already satisfied: pytz>=2020.1 in c:\\users\\phane\\anaconda3\\lib\\site-packages (from pandas) (2024.1)\n",
      "Requirement already satisfied: tzdata>=2022.7 in c:\\users\\phane\\anaconda3\\lib\\site-packages (from pandas) (2023.3)\n",
      "Requirement already satisfied: six>=1.5 in c:\\users\\phane\\anaconda3\\lib\\site-packages (from python-dateutil>=2.8.2->pandas) (1.16.0)\n",
      "Note: you may need to restart the kernel to use updated packages.\n"
     ]
    }
   ],
   "source": [
    "pip install pandas"
   ]
  },
  {
   "cell_type": "code",
   "execution_count": 286,
   "id": "35dade2c-24fd-4a29-bd91-df76c4fe672f",
   "metadata": {},
   "outputs": [
    {
     "name": "stdout",
     "output_type": "stream",
     "text": [
      "Requirement already satisfied: mysql-connector-python in c:\\users\\phane\\anaconda3\\lib\\site-packages (9.1.0)\n",
      "Note: you may need to restart the kernel to use updated packages.\n"
     ]
    }
   ],
   "source": [
    "pip install mysql-connector-python\n"
   ]
  },
  {
   "cell_type": "code",
   "execution_count": 288,
   "id": "b90c93b1-00d9-4a8c-9e81-a8d3cac13105",
   "metadata": {
    "scrolled": true
   },
   "outputs": [
    {
     "name": "stdout",
     "output_type": "stream",
     "text": [
      "Requirement already satisfied: matplotlib in c:\\users\\phane\\anaconda3\\lib\\site-packages (3.9.2)\n",
      "Requirement already satisfied: contourpy>=1.0.1 in c:\\users\\phane\\anaconda3\\lib\\site-packages (from matplotlib) (1.2.0)\n",
      "Requirement already satisfied: cycler>=0.10 in c:\\users\\phane\\anaconda3\\lib\\site-packages (from matplotlib) (0.11.0)\n",
      "Requirement already satisfied: fonttools>=4.22.0 in c:\\users\\phane\\anaconda3\\lib\\site-packages (from matplotlib) (4.51.0)\n",
      "Requirement already satisfied: kiwisolver>=1.3.1 in c:\\users\\phane\\anaconda3\\lib\\site-packages (from matplotlib) (1.4.4)\n",
      "Requirement already satisfied: numpy>=1.23 in c:\\users\\phane\\anaconda3\\lib\\site-packages (from matplotlib) (1.26.4)\n",
      "Requirement already satisfied: packaging>=20.0 in c:\\users\\phane\\anaconda3\\lib\\site-packages (from matplotlib) (24.1)\n",
      "Requirement already satisfied: pillow>=8 in c:\\users\\phane\\anaconda3\\lib\\site-packages (from matplotlib) (10.4.0)\n",
      "Requirement already satisfied: pyparsing>=2.3.1 in c:\\users\\phane\\anaconda3\\lib\\site-packages (from matplotlib) (3.1.2)\n",
      "Requirement already satisfied: python-dateutil>=2.7 in c:\\users\\phane\\anaconda3\\lib\\site-packages (from matplotlib) (2.9.0.post0)\n",
      "Requirement already satisfied: six>=1.5 in c:\\users\\phane\\anaconda3\\lib\\site-packages (from python-dateutil>=2.7->matplotlib) (1.16.0)\n",
      "Note: you may need to restart the kernel to use updated packages.\n"
     ]
    }
   ],
   "source": [
    "pip install matplotlib"
   ]
  },
  {
   "cell_type": "code",
   "execution_count": 289,
   "id": "76c45b7f-8d7c-4725-985b-874e0adfaa65",
   "metadata": {},
   "outputs": [
    {
     "name": "stdout",
     "output_type": "stream",
     "text": [
      "Requirement already satisfied: seaborn in c:\\users\\phane\\anaconda3\\lib\\site-packages (0.13.2)\n",
      "Requirement already satisfied: numpy!=1.24.0,>=1.20 in c:\\users\\phane\\anaconda3\\lib\\site-packages (from seaborn) (1.26.4)\n",
      "Requirement already satisfied: pandas>=1.2 in c:\\users\\phane\\anaconda3\\lib\\site-packages (from seaborn) (2.2.2)\n",
      "Requirement already satisfied: matplotlib!=3.6.1,>=3.4 in c:\\users\\phane\\anaconda3\\lib\\site-packages (from seaborn) (3.9.2)\n",
      "Requirement already satisfied: contourpy>=1.0.1 in c:\\users\\phane\\anaconda3\\lib\\site-packages (from matplotlib!=3.6.1,>=3.4->seaborn) (1.2.0)\n",
      "Requirement already satisfied: cycler>=0.10 in c:\\users\\phane\\anaconda3\\lib\\site-packages (from matplotlib!=3.6.1,>=3.4->seaborn) (0.11.0)\n",
      "Requirement already satisfied: fonttools>=4.22.0 in c:\\users\\phane\\anaconda3\\lib\\site-packages (from matplotlib!=3.6.1,>=3.4->seaborn) (4.51.0)\n",
      "Requirement already satisfied: kiwisolver>=1.3.1 in c:\\users\\phane\\anaconda3\\lib\\site-packages (from matplotlib!=3.6.1,>=3.4->seaborn) (1.4.4)\n",
      "Requirement already satisfied: packaging>=20.0 in c:\\users\\phane\\anaconda3\\lib\\site-packages (from matplotlib!=3.6.1,>=3.4->seaborn) (24.1)\n",
      "Requirement already satisfied: pillow>=8 in c:\\users\\phane\\anaconda3\\lib\\site-packages (from matplotlib!=3.6.1,>=3.4->seaborn) (10.4.0)\n",
      "Requirement already satisfied: pyparsing>=2.3.1 in c:\\users\\phane\\anaconda3\\lib\\site-packages (from matplotlib!=3.6.1,>=3.4->seaborn) (3.1.2)\n",
      "Requirement already satisfied: python-dateutil>=2.7 in c:\\users\\phane\\anaconda3\\lib\\site-packages (from matplotlib!=3.6.1,>=3.4->seaborn) (2.9.0.post0)\n",
      "Requirement already satisfied: pytz>=2020.1 in c:\\users\\phane\\anaconda3\\lib\\site-packages (from pandas>=1.2->seaborn) (2024.1)\n",
      "Requirement already satisfied: tzdata>=2022.7 in c:\\users\\phane\\anaconda3\\lib\\site-packages (from pandas>=1.2->seaborn) (2023.3)\n",
      "Requirement already satisfied: six>=1.5 in c:\\users\\phane\\anaconda3\\lib\\site-packages (from python-dateutil>=2.7->matplotlib!=3.6.1,>=3.4->seaborn) (1.16.0)\n",
      "Note: you may need to restart the kernel to use updated packages.\n"
     ]
    }
   ],
   "source": [
    "pip install seaborn"
   ]
  },
  {
   "cell_type": "code",
   "execution_count": 291,
   "id": "1cf87e4b-d5ef-4f8c-aec8-f313c2dafc4f",
   "metadata": {},
   "outputs": [],
   "source": [
    "import pandas as pd\n",
    "import matplotlib.pyplot as plt\n",
    "import seaborn as sns\n",
    "import mysql.connector\n",
    "\n",
    "db = mysql.connector.connect( host = 'localhost',\n",
    "                             username = 'root',\n",
    "                             password = '12345',\n",
    "                             database = 'ecommerce')\n",
    "\n",
    "cur = db.cursor()\n",
    "\n"
   ]
  },
  {
   "cell_type": "markdown",
   "id": "b5fa75ec-89db-40da-b1e4-60205fb55cab",
   "metadata": {},
   "source": [
    "#  List of all unique cities where customers are located.                       "
   ]
  },
  {
   "cell_type": "code",
   "execution_count": 293,
   "id": "93800682-8548-4f5e-812e-40d4ae17d027",
   "metadata": {},
   "outputs": [
    {
     "data": {
      "text/html": [
       "<div>\n",
       "<style scoped>\n",
       "    .dataframe tbody tr th:only-of-type {\n",
       "        vertical-align: middle;\n",
       "    }\n",
       "\n",
       "    .dataframe tbody tr th {\n",
       "        vertical-align: top;\n",
       "    }\n",
       "\n",
       "    .dataframe thead th {\n",
       "        text-align: right;\n",
       "    }\n",
       "</style>\n",
       "<table border=\"1\" class=\"dataframe\">\n",
       "  <thead>\n",
       "    <tr style=\"text-align: right;\">\n",
       "      <th></th>\n",
       "      <th>city</th>\n",
       "    </tr>\n",
       "  </thead>\n",
       "  <tbody>\n",
       "    <tr>\n",
       "      <th>0</th>\n",
       "      <td>franca</td>\n",
       "    </tr>\n",
       "    <tr>\n",
       "      <th>1</th>\n",
       "      <td>sao bernardo do campo</td>\n",
       "    </tr>\n",
       "    <tr>\n",
       "      <th>2</th>\n",
       "      <td>sao paulo</td>\n",
       "    </tr>\n",
       "    <tr>\n",
       "      <th>3</th>\n",
       "      <td>mogi das cruzes</td>\n",
       "    </tr>\n",
       "    <tr>\n",
       "      <th>4</th>\n",
       "      <td>campinas</td>\n",
       "    </tr>\n",
       "  </tbody>\n",
       "</table>\n",
       "</div>"
      ],
      "text/plain": [
       "                    city\n",
       "0                 franca\n",
       "1  sao bernardo do campo\n",
       "2              sao paulo\n",
       "3        mogi das cruzes\n",
       "4               campinas"
      ]
     },
     "execution_count": 293,
     "metadata": {},
     "output_type": "execute_result"
    }
   ],
   "source": [
    "query = '''select distinct(customer_city) from customers'''\n",
    "\n",
    "cur.execute(query)\n",
    "\n",
    "data = cur.fetchall()\n",
    "\n",
    "df =  pd.DataFrame(data, columns = ['city'])\n",
    "df.head()\n",
    "  "
   ]
  },
  {
   "cell_type": "markdown",
   "id": "d298727b-9b52-4999-b4dc-f022079ec3a6",
   "metadata": {},
   "source": [
    "# Count the number of orders placed in 2017.   "
   ]
  },
  {
   "cell_type": "code",
   "execution_count": 299,
   "id": "19963433-d5c5-4310-86ab-0e8e3ba97703",
   "metadata": {},
   "outputs": [
    {
     "data": {
      "text/plain": [
       "45101"
      ]
     },
     "execution_count": 299,
     "metadata": {},
     "output_type": "execute_result"
    }
   ],
   "source": [
    "query = '''select count(order_id) from orders where year(order_purchase_timestamp) = 2017'''\n",
    "\n",
    "cur.execute(query)\n",
    "\n",
    "data = cur.fetchall()\n",
    "\n",
    "data[0][0]\n",
    "  "
   ]
  },
  {
   "cell_type": "markdown",
   "id": "73a1a59c-792c-47fc-b88a-3d2041f29bd1",
   "metadata": {},
   "source": [
    "# Total sales per category.\n"
   ]
  },
  {
   "cell_type": "code",
   "execution_count": 8,
   "id": "92ab2c43-9027-495c-8685-a86f7bd8a384",
   "metadata": {
    "scrolled": true
   },
   "outputs": [
    {
     "data": {
      "text/html": [
       "<div>\n",
       "<style scoped>\n",
       "    .dataframe tbody tr th:only-of-type {\n",
       "        vertical-align: middle;\n",
       "    }\n",
       "\n",
       "    .dataframe tbody tr th {\n",
       "        vertical-align: top;\n",
       "    }\n",
       "\n",
       "    .dataframe thead th {\n",
       "        text-align: right;\n",
       "    }\n",
       "</style>\n",
       "<table border=\"1\" class=\"dataframe\">\n",
       "  <thead>\n",
       "    <tr style=\"text-align: right;\">\n",
       "      <th></th>\n",
       "      <th>Categories</th>\n",
       "      <th>Sales</th>\n",
       "    </tr>\n",
       "  </thead>\n",
       "  <tbody>\n",
       "    <tr>\n",
       "      <th>0</th>\n",
       "      <td>perfumery</td>\n",
       "      <td>506738.66</td>\n",
       "    </tr>\n",
       "    <tr>\n",
       "      <th>1</th>\n",
       "      <td>Furniture Decoration</td>\n",
       "      <td>1430176.39</td>\n",
       "    </tr>\n",
       "    <tr>\n",
       "      <th>2</th>\n",
       "      <td>telephony</td>\n",
       "      <td>486882.05</td>\n",
       "    </tr>\n",
       "    <tr>\n",
       "      <th>3</th>\n",
       "      <td>bed table bath</td>\n",
       "      <td>1712553.67</td>\n",
       "    </tr>\n",
       "    <tr>\n",
       "      <th>4</th>\n",
       "      <td>automotive</td>\n",
       "      <td>852294.33</td>\n",
       "    </tr>\n",
       "    <tr>\n",
       "      <th>...</th>\n",
       "      <td>...</td>\n",
       "      <td>...</td>\n",
       "    </tr>\n",
       "    <tr>\n",
       "      <th>69</th>\n",
       "      <td>cds music dvds</td>\n",
       "      <td>1199.43</td>\n",
       "    </tr>\n",
       "    <tr>\n",
       "      <th>70</th>\n",
       "      <td>La Cuisine</td>\n",
       "      <td>2913.53</td>\n",
       "    </tr>\n",
       "    <tr>\n",
       "      <th>71</th>\n",
       "      <td>Fashion Children's Clothing</td>\n",
       "      <td>785.67</td>\n",
       "    </tr>\n",
       "    <tr>\n",
       "      <th>72</th>\n",
       "      <td>PC Gamer</td>\n",
       "      <td>2174.43</td>\n",
       "    </tr>\n",
       "    <tr>\n",
       "      <th>73</th>\n",
       "      <td>insurance and services</td>\n",
       "      <td>324.51</td>\n",
       "    </tr>\n",
       "  </tbody>\n",
       "</table>\n",
       "<p>74 rows × 2 columns</p>\n",
       "</div>"
      ],
      "text/plain": [
       "                     Categories       Sales\n",
       "0                     perfumery   506738.66\n",
       "1          Furniture Decoration  1430176.39\n",
       "2                     telephony   486882.05\n",
       "3                bed table bath  1712553.67\n",
       "4                    automotive   852294.33\n",
       "..                          ...         ...\n",
       "69               cds music dvds     1199.43\n",
       "70                   La Cuisine     2913.53\n",
       "71  Fashion Children's Clothing      785.67\n",
       "72                     PC Gamer     2174.43\n",
       "73       insurance and services      324.51\n",
       "\n",
       "[74 rows x 2 columns]"
      ]
     },
     "execution_count": 8,
     "metadata": {},
     "output_type": "execute_result"
    }
   ],
   "source": [
    "query = '''select p.product_category,\n",
    "round(sum(ps.payment_value),2)\n",
    "from products p\n",
    "join order_items oi \n",
    "on p.product_id = oi.product_id \n",
    "join payments ps \n",
    "on ps.order_id = oi.order_id\n",
    "group by p.product_category'''\n",
    "\n",
    "cur.execute(query)\n",
    "\n",
    "data = cur.fetchall()\n",
    "\n",
    "df = pd.DataFrame(data, columns = ['Categories', 'Sales'])\n",
    "df"
   ]
  },
  {
   "cell_type": "markdown",
   "id": "25c7b36a-638b-4b07-a22c-ea6fef9dac77",
   "metadata": {},
   "source": [
    "# The percentage of orders that were paid in installments.\n"
   ]
  },
  {
   "cell_type": "code",
   "execution_count": 43,
   "id": "1ccbadc1-3454-4fd9-88de-1e127a4ce7f8",
   "metadata": {},
   "outputs": [
    {
     "data": {
      "text/plain": [
       "('The percentage of orders that were paid in installments is',\n",
       " Decimal('99.9981'))"
      ]
     },
     "execution_count": 43,
     "metadata": {},
     "output_type": "execute_result"
    }
   ],
   "source": [
    "query = '''select (sum(case when payment_installments > 0 then 1 else 0 end)/count(*))*100 as percentage \n",
    "from payments'''\n",
    "\n",
    "cur.execute(query)\n",
    "\n",
    "data = cur.fetchall()\n",
    "\n",
    "'The percentage of orders that were paid in installments is', data[0][0]"
   ]
  },
  {
   "cell_type": "markdown",
   "id": "70e1635f-92dc-4755-b7e7-df6442cf1d90",
   "metadata": {},
   "source": [
    "# Count the number of customers from each state. "
   ]
  },
  {
   "cell_type": "code",
   "execution_count": 313,
   "id": "f67c49d3-d4ff-42c8-af1e-5ed59fd9cb30",
   "metadata": {},
   "outputs": [
    {
     "data": {
      "image/png": "[encoded data removed]",
      "text/plain": [
       "<Figure size 800x300 with 1 Axes>"
      ]
     },
     "metadata": {},
     "output_type": "display_data"
    }
   ],
   "source": [
    "query = '''select customer_state, count(customer_id)\n",
    "from customers \n",
    "group by customer_state'''\n",
    "\n",
    "cur.execute(query)\n",
    "\n",
    "data = cur.fetchall()\n",
    "\n",
    "df = pd.DataFrame(data, columns = ['state', 'customer_count'])\n",
    "df = df.sort_values(by = 'customer_count', ascending = False)\n",
    "plt.figure(figsize = (8,3))\n",
    "plt.bar(df['state'], df['customer_count'])\n",
    "plt.xticks(rotation = 90)\n",
    "plt.xlabel('states')\n",
    "plt.ylabel('customer_count')\n",
    "plt.title('customers per state',  fontsize=16)\n",
    "plt.show()\n"
   ]
  },
  {
   "cell_type": "markdown",
   "id": "3d588ed5-2329-4b9b-b4fe-ba75461e637c",
   "metadata": {},
   "source": [
    " # Number of orders per month in 2018.  "
   ]
  },
  {
   "cell_type": "code",
   "execution_count": 311,
   "id": "7d9d2679-67a7-4453-b238-40dffbcae593",
   "metadata": {},
   "outputs": [
    {
     "data": {
      "image/png": "[encoded data removed]",
      "text/plain": [
       "<Figure size 640x480 with 1 Axes>"
      ]
     },
     "metadata": {},
     "output_type": "display_data"
    }
   ],
   "source": [
    "query = '''select monthname(order_purchase_timestamp) as months, count(order_id) as order_count from orders\n",
    "where year(order_purchase_timestamp) = 2018 \n",
    "group by months'''\n",
    "\n",
    "cur.execute(query)\n",
    "\n",
    "data = cur.fetchall()\n",
    "\n",
    "df = pd.DataFrame(data, columns = ['months', 'order_count'])\n",
    "o = ['January', 'February', 'March', 'April', 'May', 'June', 'July', 'August', 'May', 'June', 'July', 'August', 'September', 'October', 'November', 'December']\n",
    "\n",
    "ax = sns.barplot(x = df['months'], y = df['order_count'], data = df, order = o)\n",
    "plt.xticks(rotation = 90)\n",
    "ax.bar_label(ax.containers[0])\n",
    "plt.title('Orders per month in 2018',  fontsize=16) \n",
    "plt.show()\n"
   ]
  },
  {
   "cell_type": "markdown",
   "id": "e1eee859-9da1-4d26-8760-0506855453c7",
   "metadata": {},
   "source": [
    "# Average number of products per order, grouped by customer city. "
   ]
  },
  {
   "cell_type": "code",
   "execution_count": 91,
   "id": "91c455e1-040b-49f3-a8b0-78113ba6b8dd",
   "metadata": {},
   "outputs": [],
   "source": [
    "query = '''with orders_per_order  as \n",
    "(select o.order_id, o.customer_id, count(oi.order_id) as oc\n",
    "from orders o join order_items oi\n",
    "on o.order_id = oi.order_id\n",
    "group by o.order_id, o.customer_id)\n",
    "\n",
    "select c.customer_city, round(avg(orders_per_order.oc),2) as average_orders\n",
    "from customers c join orders_per_order \n",
    "on c.customer_id = orders_per_order.customer_id\n",
    "group by c.customer_city\n",
    "order by average_orders desc'''\n",
    "\n",
    "cur.execute(query)\n",
    "\n",
    "data = cur.fetchall()\n",
    "df = pd.DataFrame(data, columns = [ 'city' , 'avg_products_per_order' ])\n",
    "df\n",
    "import numpy as np"
   ]
  },
  {
   "cell_type": "markdown",
   "id": "c5fceb25-a357-46e4-89a0-3a126c91f46a",
   "metadata": {},
   "source": [
    "# The percentage of total revenue contributed by each product category. "
   ]
  },
  {
   "cell_type": "code",
   "execution_count": 67,
   "id": "651e9ccb-1280-470a-b338-29a23aa711db",
   "metadata": {},
   "outputs": [
    {
     "data": {
      "text/html": [
       "<div>\n",
       "<style scoped>\n",
       "    .dataframe tbody tr th:only-of-type {\n",
       "        vertical-align: middle;\n",
       "    }\n",
       "\n",
       "    .dataframe tbody tr th {\n",
       "        vertical-align: top;\n",
       "    }\n",
       "\n",
       "    .dataframe thead th {\n",
       "        text-align: right;\n",
       "    }\n",
       "</style>\n",
       "<table border=\"1\" class=\"dataframe\">\n",
       "  <thead>\n",
       "    <tr style=\"text-align: right;\">\n",
       "      <th></th>\n",
       "      <th>category</th>\n",
       "      <th>sales percentage</th>\n",
       "    </tr>\n",
       "  </thead>\n",
       "  <tbody>\n",
       "    <tr>\n",
       "      <th>0</th>\n",
       "      <td>BED TABLE BATH</td>\n",
       "      <td>10.70</td>\n",
       "    </tr>\n",
       "    <tr>\n",
       "      <th>1</th>\n",
       "      <td>HEALTH BEAUTY</td>\n",
       "      <td>10.35</td>\n",
       "    </tr>\n",
       "    <tr>\n",
       "      <th>2</th>\n",
       "      <td>COMPUTER ACCESSORIES</td>\n",
       "      <td>9.90</td>\n",
       "    </tr>\n",
       "    <tr>\n",
       "      <th>3</th>\n",
       "      <td>FURNITURE DECORATION</td>\n",
       "      <td>8.93</td>\n",
       "    </tr>\n",
       "    <tr>\n",
       "      <th>4</th>\n",
       "      <td>WATCHES PRESENT</td>\n",
       "      <td>8.93</td>\n",
       "    </tr>\n",
       "  </tbody>\n",
       "</table>\n",
       "</div>"
      ],
      "text/plain": [
       "               category  sales percentage\n",
       "0        BED TABLE BATH             10.70\n",
       "1         HEALTH BEAUTY             10.35\n",
       "2  COMPUTER ACCESSORIES              9.90\n",
       "3  FURNITURE DECORATION              8.93\n",
       "4       WATCHES PRESENT              8.93"
      ]
     },
     "execution_count": 67,
     "metadata": {},
     "output_type": "execute_result"
    }
   ],
   "source": [
    "\n",
    "query = '''with total_revenue as \n",
    "(select sum(payment_value) as revenue from payments)\n",
    "\n",
    "select upper(p.product_category), round((sum(py.payment_value)*100/tr.revenue),2) as contributed_revenue from order_items oi\n",
    "join products p on p.product_id = oi.product_id\n",
    "join payments py on py.order_id = oi.order_id\n",
    "cross join total_revenue tr\n",
    "group by p.product_category, tr.revenue\n",
    "order by contributed_revenue desc'''\n",
    "\n",
    "cur.execute(query)\n",
    "\n",
    "data = cur.fetchall()\n",
    "df = pd.DataFrame(data, columns = ['category', 'sales percentage' ])\n",
    "df.head(5)"
   ]
  },
  {
   "cell_type": "markdown",
   "id": "8700e1e5-75be-40c8-84c6-76e62971eb41",
   "metadata": {},
   "source": [
    "# The correlation between product price and the number of times a product has been purchased. "
   ]
  },
  {
   "cell_type": "code",
   "execution_count": 97,
   "id": "da080263-65a2-4f98-acd0-d1d92ca348cf",
   "metadata": {},
   "outputs": [
    {
     "name": "stdout",
     "output_type": "stream",
     "text": [
      "the correlation between product price and and the number of times a product has been purchased is -0.10631514167157562\n"
     ]
    }
   ],
   "source": [
    "query = '''select p.product_category, count(oi.product_id), round(avg(oi.price),2)\n",
    "from order_items oi\n",
    "join  products p \n",
    "on p.product_id = oi.product_id\n",
    "group by p.product_category'''\n",
    "\n",
    "cur.execute(query)\n",
    "\n",
    "data = cur.fetchall()\n",
    "df = pd.DataFrame(data, columns = ['Category', 'total_orders', 'price'])\n",
    "arr1 = df['total_orders']\n",
    "arr2 = df['price']\n",
    "corr = np.corrcoef([arr1,arr2])\n",
    "print('the correlation between product price and and the number of times a product has been purchased is', corr[0][1])\n"
   ]
  },
  {
   "cell_type": "markdown",
   "id": "fe279f5f-e5c1-4698-934d-47d10ce9eacf",
   "metadata": {},
   "source": [
    "# Total revenue generated by each seller, and rank them by revenue.\n"
   ]
  },
  {
   "cell_type": "code",
   "execution_count": 309,
   "id": "6a148b99-4a8f-4f03-b769-444d3ac6eb2f",
   "metadata": {},
   "outputs": [
    {
     "data": {
      "image/png": "[encoded data removed]",
      "text/plain": [
       "<Figure size 640x480 with 1 Axes>"
      ]
     },
     "metadata": {},
     "output_type": "display_data"
    }
   ],
   "source": [
    "query = '''select a.* , dense_rank() over(order by a.revenue desc) as rnk from \n",
    "(select oi.seller_id, sum(p.payment_value) as revenue\n",
    "from order_items oi\n",
    "join payments p on p.order_id = oi.order_id\n",
    "group by seller_id ) as a'''\n",
    "\n",
    "cur.execute(query)\n",
    "\n",
    "data = cur.fetchall()\n",
    "df = pd.DataFrame(data, columns= ['seller_id', 'revenue', 'rank'])\n",
    "df = df.head()\n",
    "sns.barplot(x= 'seller_id', y= 'revenue', data= df)\n",
    "plt.xticks(rotation = 90)\n",
    "plt.title('Revenue generated by each seller', fontsize=16)\n",
    "plt.show()"
   ]
  },
  {
   "cell_type": "markdown",
   "id": "aacf0548-9ea7-4ead-9c00-1b41c3ec5ece",
   "metadata": {},
   "source": [
    "# Calculate the moving average of order values for each customer over their order history."
   ]
  },
  {
   "cell_type": "code",
   "execution_count": 164,
   "id": "03923099-88e6-44bb-b942-5932f006bec2",
   "metadata": {},
   "outputs": [
    {
     "data": {
      "text/html": [
       "<div>\n",
       "<style scoped>\n",
       "    .dataframe tbody tr th:only-of-type {\n",
       "        vertical-align: middle;\n",
       "    }\n",
       "\n",
       "    .dataframe tbody tr th {\n",
       "        vertical-align: top;\n",
       "    }\n",
       "\n",
       "    .dataframe thead th {\n",
       "        text-align: right;\n",
       "    }\n",
       "</style>\n",
       "<table border=\"1\" class=\"dataframe\">\n",
       "  <thead>\n",
       "    <tr style=\"text-align: right;\">\n",
       "      <th></th>\n",
       "      <th>customer_id</th>\n",
       "      <th>timestamp</th>\n",
       "      <th>moving avg of payments</th>\n",
       "      <th>payment</th>\n",
       "    </tr>\n",
       "  </thead>\n",
       "  <tbody>\n",
       "    <tr>\n",
       "      <th>0</th>\n",
       "      <td>00012a2ce6f8dcda20d059ce98491703</td>\n",
       "      <td>2017-11-14 16:08:26</td>\n",
       "      <td>114.74</td>\n",
       "      <td>114.739998</td>\n",
       "    </tr>\n",
       "    <tr>\n",
       "      <th>1</th>\n",
       "      <td>000161a058600d5901f007fab4c27140</td>\n",
       "      <td>2017-07-16 09:40:32</td>\n",
       "      <td>67.41</td>\n",
       "      <td>67.410004</td>\n",
       "    </tr>\n",
       "    <tr>\n",
       "      <th>2</th>\n",
       "      <td>0001fd6190edaaf884bcaf3d49edf079</td>\n",
       "      <td>2017-02-28 11:06:43</td>\n",
       "      <td>195.42</td>\n",
       "      <td>195.419998</td>\n",
       "    </tr>\n",
       "    <tr>\n",
       "      <th>3</th>\n",
       "      <td>0002414f95344307404f0ace7a26f1d5</td>\n",
       "      <td>2017-08-16 13:09:20</td>\n",
       "      <td>179.35</td>\n",
       "      <td>179.350006</td>\n",
       "    </tr>\n",
       "    <tr>\n",
       "      <th>4</th>\n",
       "      <td>000379cdec625522490c315e70c7a9fb</td>\n",
       "      <td>2018-04-02 13:42:17</td>\n",
       "      <td>107.01</td>\n",
       "      <td>107.010002</td>\n",
       "    </tr>\n",
       "    <tr>\n",
       "      <th>...</th>\n",
       "      <td>...</td>\n",
       "      <td>...</td>\n",
       "      <td>...</td>\n",
       "      <td>...</td>\n",
       "    </tr>\n",
       "    <tr>\n",
       "      <th>103881</th>\n",
       "      <td>fffecc9f79fd8c764f843e9951b11341</td>\n",
       "      <td>2018-03-29 16:59:26</td>\n",
       "      <td>71.23</td>\n",
       "      <td>27.120001</td>\n",
       "    </tr>\n",
       "    <tr>\n",
       "      <th>103882</th>\n",
       "      <td>fffeda5b6d849fbd39689bb92087f431</td>\n",
       "      <td>2018-05-22 13:36:02</td>\n",
       "      <td>63.13</td>\n",
       "      <td>63.130001</td>\n",
       "    </tr>\n",
       "    <tr>\n",
       "      <th>103883</th>\n",
       "      <td>ffff42319e9b2d713724ae527742af25</td>\n",
       "      <td>2018-06-13 16:57:05</td>\n",
       "      <td>214.13</td>\n",
       "      <td>214.130005</td>\n",
       "    </tr>\n",
       "    <tr>\n",
       "      <th>103884</th>\n",
       "      <td>ffffa3172527f765de70084a7e53aae8</td>\n",
       "      <td>2017-09-02 11:53:32</td>\n",
       "      <td>45.50</td>\n",
       "      <td>45.500000</td>\n",
       "    </tr>\n",
       "    <tr>\n",
       "      <th>103885</th>\n",
       "      <td>ffffe8b65bbe3087b653a978c870db99</td>\n",
       "      <td>2017-09-29 14:07:03</td>\n",
       "      <td>18.37</td>\n",
       "      <td>18.370001</td>\n",
       "    </tr>\n",
       "  </tbody>\n",
       "</table>\n",
       "<p>103886 rows × 4 columns</p>\n",
       "</div>"
      ],
      "text/plain": [
       "                             customer_id            timestamp  \\\n",
       "0       00012a2ce6f8dcda20d059ce98491703  2017-11-14 16:08:26   \n",
       "1       000161a058600d5901f007fab4c27140  2017-07-16 09:40:32   \n",
       "2       0001fd6190edaaf884bcaf3d49edf079  2017-02-28 11:06:43   \n",
       "3       0002414f95344307404f0ace7a26f1d5  2017-08-16 13:09:20   \n",
       "4       000379cdec625522490c315e70c7a9fb  2018-04-02 13:42:17   \n",
       "...                                  ...                  ...   \n",
       "103881  fffecc9f79fd8c764f843e9951b11341  2018-03-29 16:59:26   \n",
       "103882  fffeda5b6d849fbd39689bb92087f431  2018-05-22 13:36:02   \n",
       "103883  ffff42319e9b2d713724ae527742af25  2018-06-13 16:57:05   \n",
       "103884  ffffa3172527f765de70084a7e53aae8  2017-09-02 11:53:32   \n",
       "103885  ffffe8b65bbe3087b653a978c870db99  2017-09-29 14:07:03   \n",
       "\n",
       "        moving avg of payments     payment  \n",
       "0                       114.74  114.739998  \n",
       "1                        67.41   67.410004  \n",
       "2                       195.42  195.419998  \n",
       "3                       179.35  179.350006  \n",
       "4                       107.01  107.010002  \n",
       "...                        ...         ...  \n",
       "103881                   71.23   27.120001  \n",
       "103882                   63.13   63.130001  \n",
       "103883                  214.13  214.130005  \n",
       "103884                   45.50   45.500000  \n",
       "103885                   18.37   18.370001  \n",
       "\n",
       "[103886 rows x 4 columns]"
      ]
     },
     "execution_count": 164,
     "metadata": {},
     "output_type": "execute_result"
    }
   ],
   "source": [
    "query = ''' select customer_id, timestamp, payment,  \n",
    "avg(payment) over(partition by customer_id order by timestamp rows between 2 preceding and current row) as mov_avg\n",
    " from\n",
    " (select o.customer_id, o.order_purchase_timestamp as timestamp, p.payment_value as payment\n",
    "from orders o\n",
    "join payments p on o.order_id = p.order_id)  as a'''\n",
    "\n",
    "cur.execute(query)\n",
    "\n",
    "data = cur.fetchall()\n",
    "df = pd.DataFrame(data, columns = ['customer_id', 'timestamp', 'moving avg of payments', 'payment'])\n",
    "df"
   ]
  },
  {
   "cell_type": "markdown",
   "id": "cc55b3fd-ce3e-42a8-9e00-889e87fe4028",
   "metadata": {},
   "source": [
    "# Calculate the cumulative sales per month for each year."
   ]
  },
  {
   "cell_type": "code",
   "execution_count": 187,
   "id": "8f6f1e0c-5e6f-44de-8d05-5e15acd99b37",
   "metadata": {},
   "outputs": [
    {
     "data": {
      "text/html": [
       "<div>\n",
       "<style scoped>\n",
       "    .dataframe tbody tr th:only-of-type {\n",
       "        vertical-align: middle;\n",
       "    }\n",
       "\n",
       "    .dataframe tbody tr th {\n",
       "        vertical-align: top;\n",
       "    }\n",
       "\n",
       "    .dataframe thead th {\n",
       "        text-align: right;\n",
       "    }\n",
       "</style>\n",
       "<table border=\"1\" class=\"dataframe\">\n",
       "  <thead>\n",
       "    <tr style=\"text-align: right;\">\n",
       "      <th></th>\n",
       "      <th>year</th>\n",
       "      <th>month</th>\n",
       "      <th>sales</th>\n",
       "      <th>cumulative_sales</th>\n",
       "    </tr>\n",
       "  </thead>\n",
       "  <tbody>\n",
       "    <tr>\n",
       "      <th>0</th>\n",
       "      <td>2016</td>\n",
       "      <td>9</td>\n",
       "      <td>252.24</td>\n",
       "      <td>252.24</td>\n",
       "    </tr>\n",
       "    <tr>\n",
       "      <th>1</th>\n",
       "      <td>2016</td>\n",
       "      <td>10</td>\n",
       "      <td>59090.48</td>\n",
       "      <td>59342.72</td>\n",
       "    </tr>\n",
       "    <tr>\n",
       "      <th>2</th>\n",
       "      <td>2016</td>\n",
       "      <td>12</td>\n",
       "      <td>19.62</td>\n",
       "      <td>59362.34</td>\n",
       "    </tr>\n",
       "    <tr>\n",
       "      <th>3</th>\n",
       "      <td>2017</td>\n",
       "      <td>1</td>\n",
       "      <td>138488.04</td>\n",
       "      <td>197850.38</td>\n",
       "    </tr>\n",
       "    <tr>\n",
       "      <th>4</th>\n",
       "      <td>2017</td>\n",
       "      <td>2</td>\n",
       "      <td>291908.01</td>\n",
       "      <td>489758.39</td>\n",
       "    </tr>\n",
       "    <tr>\n",
       "      <th>5</th>\n",
       "      <td>2017</td>\n",
       "      <td>3</td>\n",
       "      <td>449863.60</td>\n",
       "      <td>939621.99</td>\n",
       "    </tr>\n",
       "    <tr>\n",
       "      <th>6</th>\n",
       "      <td>2017</td>\n",
       "      <td>4</td>\n",
       "      <td>417788.03</td>\n",
       "      <td>1357410.02</td>\n",
       "    </tr>\n",
       "    <tr>\n",
       "      <th>7</th>\n",
       "      <td>2017</td>\n",
       "      <td>5</td>\n",
       "      <td>592918.82</td>\n",
       "      <td>1950328.84</td>\n",
       "    </tr>\n",
       "    <tr>\n",
       "      <th>8</th>\n",
       "      <td>2017</td>\n",
       "      <td>6</td>\n",
       "      <td>511276.38</td>\n",
       "      <td>2461605.22</td>\n",
       "    </tr>\n",
       "    <tr>\n",
       "      <th>9</th>\n",
       "      <td>2017</td>\n",
       "      <td>7</td>\n",
       "      <td>592382.92</td>\n",
       "      <td>3053988.14</td>\n",
       "    </tr>\n",
       "    <tr>\n",
       "      <th>10</th>\n",
       "      <td>2017</td>\n",
       "      <td>8</td>\n",
       "      <td>674396.32</td>\n",
       "      <td>3728384.46</td>\n",
       "    </tr>\n",
       "    <tr>\n",
       "      <th>11</th>\n",
       "      <td>2017</td>\n",
       "      <td>9</td>\n",
       "      <td>727762.45</td>\n",
       "      <td>4456146.91</td>\n",
       "    </tr>\n",
       "    <tr>\n",
       "      <th>12</th>\n",
       "      <td>2017</td>\n",
       "      <td>10</td>\n",
       "      <td>779677.88</td>\n",
       "      <td>5235824.79</td>\n",
       "    </tr>\n",
       "    <tr>\n",
       "      <th>13</th>\n",
       "      <td>2017</td>\n",
       "      <td>11</td>\n",
       "      <td>1194882.80</td>\n",
       "      <td>6430707.59</td>\n",
       "    </tr>\n",
       "    <tr>\n",
       "      <th>14</th>\n",
       "      <td>2017</td>\n",
       "      <td>12</td>\n",
       "      <td>878401.48</td>\n",
       "      <td>7309109.07</td>\n",
       "    </tr>\n",
       "    <tr>\n",
       "      <th>15</th>\n",
       "      <td>2018</td>\n",
       "      <td>1</td>\n",
       "      <td>1115004.18</td>\n",
       "      <td>8424113.25</td>\n",
       "    </tr>\n",
       "    <tr>\n",
       "      <th>16</th>\n",
       "      <td>2018</td>\n",
       "      <td>2</td>\n",
       "      <td>992463.34</td>\n",
       "      <td>9416576.59</td>\n",
       "    </tr>\n",
       "    <tr>\n",
       "      <th>17</th>\n",
       "      <td>2018</td>\n",
       "      <td>3</td>\n",
       "      <td>1159652.12</td>\n",
       "      <td>10576228.71</td>\n",
       "    </tr>\n",
       "    <tr>\n",
       "      <th>18</th>\n",
       "      <td>2018</td>\n",
       "      <td>4</td>\n",
       "      <td>1160785.48</td>\n",
       "      <td>11737014.19</td>\n",
       "    </tr>\n",
       "    <tr>\n",
       "      <th>19</th>\n",
       "      <td>2018</td>\n",
       "      <td>5</td>\n",
       "      <td>1153982.15</td>\n",
       "      <td>12890996.34</td>\n",
       "    </tr>\n",
       "    <tr>\n",
       "      <th>20</th>\n",
       "      <td>2018</td>\n",
       "      <td>6</td>\n",
       "      <td>1023880.50</td>\n",
       "      <td>13914876.84</td>\n",
       "    </tr>\n",
       "    <tr>\n",
       "      <th>21</th>\n",
       "      <td>2018</td>\n",
       "      <td>7</td>\n",
       "      <td>1066540.75</td>\n",
       "      <td>14981417.59</td>\n",
       "    </tr>\n",
       "    <tr>\n",
       "      <th>22</th>\n",
       "      <td>2018</td>\n",
       "      <td>8</td>\n",
       "      <td>1022425.32</td>\n",
       "      <td>16003842.91</td>\n",
       "    </tr>\n",
       "    <tr>\n",
       "      <th>23</th>\n",
       "      <td>2018</td>\n",
       "      <td>9</td>\n",
       "      <td>4439.54</td>\n",
       "      <td>16008282.45</td>\n",
       "    </tr>\n",
       "    <tr>\n",
       "      <th>24</th>\n",
       "      <td>2018</td>\n",
       "      <td>10</td>\n",
       "      <td>589.67</td>\n",
       "      <td>16008872.12</td>\n",
       "    </tr>\n",
       "  </tbody>\n",
       "</table>\n",
       "</div>"
      ],
      "text/plain": [
       "    year  month       sales  cumulative_sales\n",
       "0   2016      9      252.24            252.24\n",
       "1   2016     10    59090.48          59342.72\n",
       "2   2016     12       19.62          59362.34\n",
       "3   2017      1   138488.04         197850.38\n",
       "4   2017      2   291908.01         489758.39\n",
       "5   2017      3   449863.60         939621.99\n",
       "6   2017      4   417788.03        1357410.02\n",
       "7   2017      5   592918.82        1950328.84\n",
       "8   2017      6   511276.38        2461605.22\n",
       "9   2017      7   592382.92        3053988.14\n",
       "10  2017      8   674396.32        3728384.46\n",
       "11  2017      9   727762.45        4456146.91\n",
       "12  2017     10   779677.88        5235824.79\n",
       "13  2017     11  1194882.80        6430707.59\n",
       "14  2017     12   878401.48        7309109.07\n",
       "15  2018      1  1115004.18        8424113.25\n",
       "16  2018      2   992463.34        9416576.59\n",
       "17  2018      3  1159652.12       10576228.71\n",
       "18  2018      4  1160785.48       11737014.19\n",
       "19  2018      5  1153982.15       12890996.34\n",
       "20  2018      6  1023880.50       13914876.84\n",
       "21  2018      7  1066540.75       14981417.59\n",
       "22  2018      8  1022425.32       16003842.91\n",
       "23  2018      9     4439.54       16008282.45\n",
       "24  2018     10      589.67       16008872.12"
      ]
     },
     "execution_count": 187,
     "metadata": {},
     "output_type": "execute_result"
    }
   ],
   "source": [
    "query = ''' select year, month, round(sales,2),\n",
    "round(sum(sales) over(order by year, month),2) as cumulative_sales from\n",
    "(select year(o.order_purchase_timestamp) as year, \n",
    "month(o.order_purchase_timestamp) as month,\n",
    "sum(p.payment_value) as sales\n",
    "from orders o \n",
    "join payments p on p.order_id = o.order_id\n",
    "group by year, month) as a'''\n",
    "\n",
    "cur.execute(query)\n",
    "\n",
    "data = cur.fetchall()\n",
    "df = pd.DataFrame(data, columns = ['year', 'month', 'sales', 'cumulative_sales'])\n",
    "df"
   ]
  },
  {
   "cell_type": "markdown",
   "id": "327e3b18-d5b6-4195-bb50-b7a0aae0f78e",
   "metadata": {},
   "source": [
    "# Calculate the year-over-year growth rate of total sales.  \n"
   ]
  },
  {
   "cell_type": "code",
   "execution_count": 206,
   "id": "5fa13cad-f053-48cb-8e2b-7084588de1e6",
   "metadata": {},
   "outputs": [
    {
     "data": {
      "text/html": [
       "<div>\n",
       "<style scoped>\n",
       "    .dataframe tbody tr th:only-of-type {\n",
       "        vertical-align: middle;\n",
       "    }\n",
       "\n",
       "    .dataframe tbody tr th {\n",
       "        vertical-align: top;\n",
       "    }\n",
       "\n",
       "    .dataframe thead th {\n",
       "        text-align: right;\n",
       "    }\n",
       "</style>\n",
       "<table border=\"1\" class=\"dataframe\">\n",
       "  <thead>\n",
       "    <tr style=\"text-align: right;\">\n",
       "      <th></th>\n",
       "      <th>year</th>\n",
       "      <th>sales</th>\n",
       "      <th>yoy % sales growth</th>\n",
       "    </tr>\n",
       "  </thead>\n",
       "  <tbody>\n",
       "    <tr>\n",
       "      <th>0</th>\n",
       "      <td>2016</td>\n",
       "      <td>59362.34</td>\n",
       "      <td>NaN</td>\n",
       "    </tr>\n",
       "    <tr>\n",
       "      <th>1</th>\n",
       "      <td>2017</td>\n",
       "      <td>7249746.73</td>\n",
       "      <td>12112.703761</td>\n",
       "    </tr>\n",
       "    <tr>\n",
       "      <th>2</th>\n",
       "      <td>2018</td>\n",
       "      <td>8699763.05</td>\n",
       "      <td>20.000924</td>\n",
       "    </tr>\n",
       "  </tbody>\n",
       "</table>\n",
       "</div>"
      ],
      "text/plain": [
       "   year       sales  yoy % sales growth\n",
       "0  2016    59362.34                 NaN\n",
       "1  2017  7249746.73        12112.703761\n",
       "2  2018  8699763.05           20.000924"
      ]
     },
     "execution_count": 206,
     "metadata": {},
     "output_type": "execute_result"
    }
   ],
   "source": [
    "query = ''' with a as (select year(o.order_purchase_timestamp) as year,\n",
    "round(sum(p.payment_value),2) as sales\n",
    "from orders o \n",
    "join payments p on o.order_id = p.order_id\n",
    "group by year)\n",
    "select a.year, a.sales, \n",
    "((a.sales-lag(sales) over(order  by year))/lag(sales) over(order  by year))*100 as growth_rate\n",
    "from a'''\n",
    "\n",
    "cur.execute(query)\n",
    "\n",
    "data = cur.fetchall()\n",
    "df = pd.DataFrame(data, columns = ['year', 'sales', 'yoy % sales growth'])\n",
    "df"
   ]
  },
  {
   "cell_type": "markdown",
   "id": "890c153e-83f7-46bd-8315-33ffc83f2ab6",
   "metadata": {},
   "source": [
    "# The retention rate of customers, defined as the percentage of customers who make another purchase within 6 months of their first purchase.  "
   ]
  },
  {
   "cell_type": "code",
   "execution_count": 229,
   "id": "7d1a38e5-d677-48ad-8a94-e81b0d5f9ffb",
   "metadata": {},
   "outputs": [
    {
     "name": "stdout",
     "output_type": "stream",
     "text": [
      "No customer bought more than one time within a span of 6 months, hence retention rate is shown as [(None,)]\n"
     ]
    }
   ],
   "source": [
    "query = \"\"\"with a as (select customers.customer_id,\n",
    "min(orders.order_purchase_timestamp) first_order\n",
    "from customers join orders\n",
    "on customers.customer_id = orders.customer_id\n",
    "group by customers.customer_id),\n",
    "\n",
    "b as (select a.customer_id, count(distinct orders.order_purchase_timestamp) next_order\n",
    "from a join orders\n",
    "on orders.customer_id = a.customer_id\n",
    "and orders.order_purchase_timestamp > first_order\n",
    "and orders.order_purchase_timestamp < \n",
    "date_add(first_order, interval 6 month)\n",
    "group by a.customer_id) \n",
    "\n",
    "select 100 * (count( distinct a.customer_id)/ count(distinct b.customer_id)) \n",
    "from a left join b \n",
    "on a.customer_id = b.customer_id ;\"\"\"\n",
    "\n",
    "cur.execute(query)\n",
    "data = cur.fetchall()\n",
    "\n",
    "\n",
    "print('No customer bought more than one time within a span of 6 months, \n",
    "hence retention rate is shown as', data)"
   ]
  },
  {
   "cell_type": "markdown",
   "id": "a1919623-c9d3-4b81-a520-972ebdd30cc9",
   "metadata": {},
   "source": [
    "# Top 3 customers who spent most in last 3 years. "
   ]
  },
  {
   "cell_type": "code",
   "execution_count": 307,
   "id": "5b85844c-8fa1-4085-910a-77070177ac12",
   "metadata": {
    "scrolled": true
   },
   "outputs": [
    {
     "data": {
      "image/png": "[encoded data removed]",
      "text/plain": [
       "<Figure size 640x480 with 1 Axes>"
      ]
     },
     "metadata": {},
     "output_type": "display_data"
    }
   ],
   "source": [
    "query = \"\"\"select years, customer_id, payment, d_rank\n",
    "from\n",
    "(select year(orders.order_purchase_timestamp) years,\n",
    "orders.customer_id,\n",
    "sum(payments.payment_value) payment,\n",
    "dense_rank() over(partition by year(orders.order_purchase_timestamp)\n",
    "order by sum(payments.payment_value) desc) d_rank\n",
    "from orders join payments \n",
    "on payments.order_id = orders.order_id\n",
    "group by year(orders.order_purchase_timestamp),\n",
    "orders.customer_id) as a\n",
    "where d_rank <= 3 ;\"\"\"\n",
    "\n",
    "cur.execute(query)\n",
    "data = cur.fetchall()\n",
    "df = pd.DataFrame(data, columns = [\"years\",\"id\",\"payment\",\"rank\"])\n",
    "sns.barplot(x = \"id\", y = \"payment\", data = df, hue = \"years\", palette='viridis')\n",
    "plt.xticks(rotation = 90)\n",
    "# titles and labels\n",
    "plt.title('Top 3 Customers by Spending Each Year', fontsize=16)\n",
    "plt.xlabel('Customer ID', fontsize=12)\n",
    "plt.ylabel('Money Spent', fontsize=12)\n",
    "plt.legend(title='Year', fontsize=10)\n",
    "\n",
    "\n",
    "# Display the plot\n",
    "\n",
    "plt.show()\n",
    "\n"
   ]
  },
  {
   "cell_type": "code",
   "execution_count": null,
   "id": "32226679-167d-4189-a3b0-e1f3eed5d21b",
   "metadata": {},
   "outputs": [],
   "source": []
  }
 ],
 "metadata": {
  "kernelspec": {
   "display_name": "Python 3 (ipykernel)",
   "language": "python",
   "name": "python3"
  },
  "language_info": {
   "codemirror_mode": {
    "name": "ipython",
    "version": 3
   },
   "file_extension": ".py",
   "mimetype": "text/x-python",
   "name": "python",
   "nbconvert_exporter": "python",
   "pygments_lexer": "ipython3",
   "version": "3.12.7"
  }
 },
 "nbformat": 4,
 "nbformat_minor": 5
}
